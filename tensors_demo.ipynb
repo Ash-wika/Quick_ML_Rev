{
  "nbformat": 4,
  "nbformat_minor": 0,
  "metadata": {
    "colab": {
      "provenance": [],
      "authorship_tag": "ABX9TyNPrjMYKyEgthV36m9IPcjC",
      "include_colab_link": true
    },
    "kernelspec": {
      "name": "python3",
      "display_name": "Python 3"
    },
    "language_info": {
      "name": "python"
    }
  },
  "cells": [
    {
      "cell_type": "markdown",
      "metadata": {
        "id": "view-in-github",
        "colab_type": "text"
      },
      "source": [
        "<a href=\"https://colab.research.google.com/github/Ash-wika/Quick_ML_Rev/blob/main/tensors_demo.ipynb\" target=\"_parent\"><img src=\"https://colab.research.google.com/assets/colab-badge.svg\" alt=\"Open In Colab\"/></a>"
      ]
    },
    {
      "cell_type": "code",
      "execution_count": 1,
      "metadata": {
        "id": "j1_dASWhwRqD"
      },
      "outputs": [],
      "source": [
        "import numpy as np"
      ]
    },
    {
      "cell_type": "markdown",
      "source": [
        "###**0D Tensor/Scalar**"
      ],
      "metadata": {
        "id": "MtY17awjw70N"
      }
    },
    {
      "cell_type": "code",
      "source": [
        "a= np.array(4)"
      ],
      "metadata": {
        "id": "7YRGXSkqwXpH"
      },
      "execution_count": 2,
      "outputs": []
    },
    {
      "cell_type": "code",
      "source": [
        "a"
      ],
      "metadata": {
        "colab": {
          "base_uri": "https://localhost:8080/"
        },
        "id": "iJ5ZCa9EwiY9",
        "outputId": "10d9ffab-95b6-4e7c-cada-dd6bdcba0fdd"
      },
      "execution_count": 3,
      "outputs": [
        {
          "output_type": "execute_result",
          "data": {
            "text/plain": [
              "array(4)"
            ]
          },
          "metadata": {},
          "execution_count": 3
        }
      ]
    },
    {
      "cell_type": "code",
      "source": [
        "a.ndim"
      ],
      "metadata": {
        "colab": {
          "base_uri": "https://localhost:8080/"
        },
        "id": "4gNYvej-wjAl",
        "outputId": "5dca5d64-cf0b-4a64-fdc4-2e8c7e8d1e9c"
      },
      "execution_count": 4,
      "outputs": [
        {
          "output_type": "execute_result",
          "data": {
            "text/plain": [
              "0"
            ]
          },
          "metadata": {},
          "execution_count": 4
        }
      ]
    },
    {
      "cell_type": "markdown",
      "source": [
        "###**1D Tensor/Vector**\n",
        "\n",
        "No. of axis = rank\n",
        "            = dimension of tensor"
      ],
      "metadata": {
        "id": "QpuExnIuxNyb"
      }
    },
    {
      "cell_type": "code",
      "source": [
        "arr= np.array([1,2,3,4,5,6])"
      ],
      "metadata": {
        "id": "J459VKQXw2H0"
      },
      "execution_count": 6,
      "outputs": []
    },
    {
      "cell_type": "code",
      "source": [
        "arr"
      ],
      "metadata": {
        "colab": {
          "base_uri": "https://localhost:8080/"
        },
        "id": "aeTnVR8Wx3-P",
        "outputId": "9c50d621-a13e-4fd3-dd1c-2e10f6bd6434"
      },
      "execution_count": 7,
      "outputs": [
        {
          "output_type": "execute_result",
          "data": {
            "text/plain": [
              "array([1, 2, 3, 4, 5, 6])"
            ]
          },
          "metadata": {},
          "execution_count": 7
        }
      ]
    },
    {
      "cell_type": "code",
      "source": [
        "arr.ndim"
      ],
      "metadata": {
        "colab": {
          "base_uri": "https://localhost:8080/"
        },
        "id": "AGfmbMEmx7JS",
        "outputId": "a32fdef9-007f-4960-e4ac-b3c3578dddaf"
      },
      "execution_count": 8,
      "outputs": [
        {
          "output_type": "execute_result",
          "data": {
            "text/plain": [
              "1"
            ]
          },
          "metadata": {},
          "execution_count": 8
        }
      ]
    },
    {
      "cell_type": "markdown",
      "source": [
        "1D called as vector but vector's dimesnion is 6D as there are 6 elements as 6 dimensions.\n",
        "\n",
        "eg) [1,2] is a 1D tensor and vector. But the dimension of vector is 2.\n",
        "\n",
        "=> If we keeping adding scalars to scalars it will form a vector."
      ],
      "metadata": {
        "id": "eJQ4IKoxyOJh"
      }
    },
    {
      "cell_type": "markdown",
      "source": [
        "###**2D Tensor/Matrices**"
      ],
      "metadata": {
        "id": "utkSElfczX50"
      }
    },
    {
      "cell_type": "code",
      "source": [
        "mat= np.array([[1,2,3,4],[5,7,6,8]])"
      ],
      "metadata": {
        "id": "5LQ43pJOx8RJ"
      },
      "execution_count": 9,
      "outputs": []
    },
    {
      "cell_type": "code",
      "source": [
        "mat"
      ],
      "metadata": {
        "colab": {
          "base_uri": "https://localhost:8080/"
        },
        "id": "XPpP1TK2zry0",
        "outputId": "96f665be-88ca-441a-9d93-d50aefd262ae"
      },
      "execution_count": 10,
      "outputs": [
        {
          "output_type": "execute_result",
          "data": {
            "text/plain": [
              "array([[1, 2, 3, 4],\n",
              "       [5, 7, 6, 8]])"
            ]
          },
          "metadata": {},
          "execution_count": 10
        }
      ]
    },
    {
      "cell_type": "code",
      "source": [
        "mat.ndim"
      ],
      "metadata": {
        "colab": {
          "base_uri": "https://localhost:8080/"
        },
        "id": "26VejePJzsl4",
        "outputId": "0c08c857-134b-49dc-8bce-d1d32aec73f4"
      },
      "execution_count": 11,
      "outputs": [
        {
          "output_type": "execute_result",
          "data": {
            "text/plain": [
              "2"
            ]
          },
          "metadata": {},
          "execution_count": 11
        }
      ]
    },
    {
      "cell_type": "markdown",
      "source": [
        "###**ND Tensor**"
      ],
      "metadata": {
        "id": "EE44Qe-czxx4"
      }
    },
    {
      "cell_type": "code",
      "source": [
        "vol = np.array([\n",
        "    [\n",
        "        [[1, 2, 3], [4, 5, 6]],\n",
        "        [[7, 8, 9], [10, 11, 12]]\n",
        "    ],\n",
        "    [\n",
        "        [[13, 14, 15], [16, 17, 18]],\n",
        "        [[19, 20, 21], [22, 23, 24]]\n",
        "    ]\n",
        "])"
      ],
      "metadata": {
        "id": "Yv1beuO6ztnx"
      },
      "execution_count": 16,
      "outputs": []
    },
    {
      "cell_type": "code",
      "source": [
        "vol"
      ],
      "metadata": {
        "colab": {
          "base_uri": "https://localhost:8080/"
        },
        "id": "J87is5cx0-33",
        "outputId": "c9746df7-8fd4-4015-fc11-4684cd708878"
      },
      "execution_count": 17,
      "outputs": [
        {
          "output_type": "execute_result",
          "data": {
            "text/plain": [
              "array([[[[ 1,  2,  3],\n",
              "         [ 4,  5,  6]],\n",
              "\n",
              "        [[ 7,  8,  9],\n",
              "         [10, 11, 12]]],\n",
              "\n",
              "\n",
              "       [[[13, 14, 15],\n",
              "         [16, 17, 18]],\n",
              "\n",
              "        [[19, 20, 21],\n",
              "         [22, 23, 24]]]])"
            ]
          },
          "metadata": {},
          "execution_count": 17
        }
      ]
    },
    {
      "cell_type": "code",
      "source": [
        "vol.ndim"
      ],
      "metadata": {
        "colab": {
          "base_uri": "https://localhost:8080/"
        },
        "id": "PgM1Xket1vOX",
        "outputId": "63f3b561-bec9-4be6-d15d-6b8cc4d837fb"
      },
      "execution_count": 19,
      "outputs": [
        {
          "output_type": "execute_result",
          "data": {
            "text/plain": [
              "4"
            ]
          },
          "metadata": {},
          "execution_count": 19
        }
      ]
    },
    {
      "cell_type": "code",
      "source": [],
      "metadata": {
        "id": "YLcUdxmG1wyf"
      },
      "execution_count": null,
      "outputs": []
    }
  ]
}